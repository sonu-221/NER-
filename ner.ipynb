{
 "cells": [
  {
   "cell_type": "code",
   "execution_count": 1,
   "id": "604d0cdb",
   "metadata": {},
   "outputs": [
    {
     "name": "stdout",
     "output_type": "stream",
     "text": [
      "['Barack', 'Obama', 'USA', 'INDIA']\n"
     ]
    }
   ],
   "source": [
    "#PROGRAM3:   NAMED ENTITY RECOGNITION---\n",
    "import nltk\n",
    "from nltk import word_tokenize, pos_tag, ne_chunk, sent_tokenize\n",
    "\n",
    "input = \"Barack Obama went as a prime minister of USA in the year of 2015 . PM MODI is the prime minister of INDIA.\"\n",
    "ner = ne_chunk(pos_tag(word_tokenize(input)))\n",
    "# print(ner)\n",
    "\n",
    "from nltk.tree import Tree\n",
    "named_entity = []\n",
    "for subtree in ner:\n",
    "    if isinstance(subtree, Tree):\n",
    "        entity = \" \".join([token for token, pos in subtree.leaves()])\n",
    "        named_entity.append(entity)\n",
    "print(named_entity)"
   ]
  },
  {
   "cell_type": "code",
   "execution_count": 3,
   "id": "fc35a883-924b-4d1e-a579-19d8e305d4ef",
   "metadata": {},
   "outputs": [
    {
     "name": "stdout",
     "output_type": "stream",
     "text": [
      "['Barack Obama', 'USA', 'the year of 2015', 'PM MODI', 'INDIA']\n"
     ]
    }
   ],
   "source": [
    "#pip install spacy\n",
    "import spacy\n",
    "nlp = spacy.load(\"en_core_web_sm\")\n",
    "\n",
    "text = \"Barack Obama went as a prime minister of USA in the year of 2015 . PM MODI is the prime minister of INDIA.\"\n",
    "doc = nlp(text)\n",
    "named_entity = []\n",
    "for ent in doc.ents:\n",
    "    named_entity.append(ent.text)\n",
    "print(named_entity)"
   ]
  },
  {
   "cell_type": "code",
   "execution_count": null,
   "id": "5213474c-9ee4-4054-9eae-2dd9e92f48c9",
   "metadata": {},
   "outputs": [],
   "source": []
  }
 ],
 "metadata": {
  "kernelspec": {
   "display_name": "Python 3",
   "language": "python",
   "name": "python3"
  },
  "language_info": {
   "codemirror_mode": {
    "name": "ipython",
    "version": 3
   },
   "file_extension": ".py",
   "mimetype": "text/x-python",
   "name": "python",
   "nbconvert_exporter": "python",
   "pygments_lexer": "ipython3",
   "version": "3.9.5"
  }
 },
 "nbformat": 4,
 "nbformat_minor": 5
}
